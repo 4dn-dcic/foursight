{
 "cells": [
  {
   "cell_type": "markdown",
   "metadata": {},
   "source": [
    "# Testing Foursight Checks\n",
    "* This notebook provides a list of parameters you can tweak while you are testing your foursight code locally.\n",
    "* You can also use this notebook to run available checks locally for longer then 15 min\n",
    "* Autoreload of modules are also enabled, so if you make code changes, you don't need to restart the kernel."
   ]
  },
  {
   "cell_type": "code",
   "execution_count": null,
   "metadata": {},
   "outputs": [],
   "source": [
    "# NEED TO RUN ONCE\n",
    "%load_ext autoreload\n",
    "import logging, sys, json\n",
    "logging.disable(sys.maxsize)"
   ]
  },
  {
   "cell_type": "code",
   "execution_count": null,
   "metadata": {
    "scrolled": true
   },
   "outputs": [],
   "source": [
    "%autoreload 2\n",
    "import app\n",
    "# CHECK PARAMETERS\n",
    "# SET CHECK\n",
    "check = 'system_checks/secondary_queue_deduplication'\n",
    "action = ''\n",
    "\n",
    "# WHICH ENV YOU WANT TO WORK ON (data, staging, cgapwolf, ...)\n",
    "env = 'data'\n",
    "\n",
    "# DO YOU WANT FOURSIGHT UI TO SHOW THE RESULTS\n",
    "show_ui = True\n",
    "\n",
    "# DEV OR PROD BUCKET FOR STORING RESULTS - dev or prod\n",
    "stage = 'prod'\n",
    "\n",
    "# DISABLE FOURSIGHT TIMEOUT, True will disable  the timeout\n",
    "# If the check has an internal timer, you need to modify the check besides this\n",
    "disable_timeout = True\n",
    "\n",
    "# ADD ADDITIONAL CHECK PARAMETERS YOU WANT TO USE\n",
    "check_params = {} \n",
    "# To disable timeout on dedup, add time limit parameter\n",
    "check_params = {'time_limit': 100000000} \n",
    "\n",
    "# Run The Check\n",
    "app.set_stage(stage)\n",
    "if show_ui:\n",
    "    check_params['primary'] = True\n",
    "if disable_timeout:\n",
    "    app.set_timeout(0)\n",
    "connection = app.init_connection(env)\n",
    "res = app.run_check_or_action(connection, check, check_params)\n",
    "\n",
    "result = json.dumps(res, indent=4)\n",
    "print(result)\n",
    "uuid = res['kwargs']['uuid']"
   ]
  },
  {
   "cell_type": "code",
   "execution_count": null,
   "metadata": {},
   "outputs": [],
   "source": [
    "# if there is and action, you can run it on the check you run above\n",
    "action_params = {'check_name': check.split('/')[1],'called_by': uuid}\n",
    "res = app.run_check_or_action(connection, action, action_params)\n",
    "result = json.dumps(res, indent=4)\n",
    "print(result)"
   ]
  }
 ],
 "metadata": {
  "kernelspec": {
   "display_name": "foursight",
   "language": "python",
   "name": "foursight"
  },
  "language_info": {
   "codemirror_mode": {
    "name": "ipython",
    "version": 3
   },
   "file_extension": ".py",
   "mimetype": "text/x-python",
   "name": "python",
   "nbconvert_exporter": "python",
   "pygments_lexer": "ipython3",
   "version": "3.6.4"
  }
 },
 "nbformat": 4,
 "nbformat_minor": 2
}
